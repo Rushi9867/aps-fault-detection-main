{
 "cells": [
  {
   "cell_type": "code",
   "execution_count": 15,
   "metadata": {},
   "outputs": [],
   "source": [
    "import numpy as np \n",
    "from scipy import stats \n",
    "rng = np.random.default_rng()\n",
    "target1 = stats.uniform.rvs(size=100,random_state=rng)\n",
    "target2 = stats.norm.rvs(size=110,random_state=rng)\n",
    "response = stats.ks_2samp(target1,target2)\n",
    " "
   ]
  },
  {
   "cell_type": "code",
   "execution_count": 16,
   "metadata": {},
   "outputs": [
    {
     "data": {
      "text/plain": [
       "array([0.29366288, 0.4323975 , 0.73745781, 0.1091656 , 0.11378848,\n",
       "       0.68855856, 0.67184809, 0.18461391, 0.60297952, 0.2487914 ,\n",
       "       0.28269875, 0.07584168, 0.92025639, 0.96497222, 0.23549247,\n",
       "       0.41923044, 0.60899185, 0.30670559, 0.84888865, 0.70243741,\n",
       "       0.93650072, 0.20233553, 0.07744133, 0.11668782, 0.36149675,\n",
       "       0.13878137, 0.02160207, 0.85661601, 0.98680078, 0.84587283,\n",
       "       0.36818107, 0.29552697, 0.93716611, 0.99487148, 0.02796052,\n",
       "       0.786059  , 0.75728765, 0.12760783, 0.48728837, 0.35401609,\n",
       "       0.17292019, 0.99443245, 0.31575721, 0.10185932, 0.83320902,\n",
       "       0.28057701, 0.44850305, 0.25574678, 0.7116171 , 0.02686972,\n",
       "       0.22217942, 0.2538344 , 0.93548003, 0.3811641 , 0.59413402,\n",
       "       0.11294896, 0.60914413, 0.64058433, 0.52695812, 0.91398753,\n",
       "       0.68772785, 0.2268641 , 0.86829306, 0.95354615, 0.90747327,\n",
       "       0.6546974 , 0.68456881, 0.20316695, 0.68995653, 0.48382638,\n",
       "       0.81124945, 0.63614388, 0.48401283, 0.20644686, 0.03146629,\n",
       "       0.48742407, 0.87559503, 0.03797457, 0.32728933, 0.14046476,\n",
       "       0.14247968, 0.80222968, 0.77950487, 0.49620578, 0.70606224,\n",
       "       0.67943292, 0.68981184, 0.02545663, 0.03952307, 0.78826485,\n",
       "       0.23314664, 0.7745772 , 0.63969277, 0.25903004, 0.48718876,\n",
       "       0.31070748, 0.58647076, 0.96821272, 0.26580156, 0.10766776])"
      ]
     },
     "execution_count": 16,
     "metadata": {},
     "output_type": "execute_result"
    }
   ],
   "source": [
    "target1"
   ]
  },
  {
   "cell_type": "code",
   "execution_count": 17,
   "metadata": {},
   "outputs": [
    {
     "data": {
      "text/plain": [
       "array([-0.98318986,  1.57759932, -0.45584458,  1.12977403, -0.39349408,\n",
       "       -0.1852031 , -0.21465772,  1.66339883, -0.45838843,  1.52514565,\n",
       "       -2.34017753, -0.01034291,  0.56869725, -1.03974925, -0.22277311,\n",
       "       -0.31144158,  1.06072822,  0.56262769,  1.51166303,  0.71434843,\n",
       "       -0.62865235, -2.68162893, -2.58592817, -1.41258662, -0.86913012,\n",
       "        0.37171584,  1.92533865, -0.3333954 , -0.9374821 ,  0.16844127,\n",
       "        2.01845719,  0.49413396, -0.64644703, -0.12715426,  0.12167151,\n",
       "       -1.20541302,  0.33076601,  1.24463466,  1.03366333, -2.1798316 ,\n",
       "        0.42158707, -1.3041943 , -0.27837617,  0.27642222,  0.44832918,\n",
       "       -0.07844907,  1.45184504,  0.48690058, -1.63251342, -0.70359363,\n",
       "       -0.41935222, -1.59643683,  0.74228694,  0.37091624,  0.87651389,\n",
       "       -0.96370901, -0.31421012,  0.4050698 , -0.07441955, -0.22871586,\n",
       "       -0.13142293,  2.09957883, -0.2485323 , -0.980807  ,  0.52735383,\n",
       "        0.25204624,  0.41927045, -1.18306861, -0.01063102,  1.06755259,\n",
       "        0.50254906, -0.08539515,  0.9885993 , -0.85059762, -0.18878675,\n",
       "       -0.17374007,  0.30448535, -0.7882017 , -0.28506869, -0.81798172,\n",
       "       -0.71848873, -0.35472248, -0.68797455, -0.53993076,  1.82220904,\n",
       "        0.24169923,  0.36769264,  0.5180641 , -0.83257222,  0.45382494,\n",
       "        1.97173899, -0.30670761, -0.09846576,  0.90841541, -1.34253461,\n",
       "       -0.71774522, -0.09419447,  1.44902654,  2.20052846, -0.14566381,\n",
       "       -0.16582437,  0.81336454,  0.18310155,  0.31796514,  1.48777461,\n",
       "       -0.57307513,  1.58066403, -1.80427275, -2.02414586, -0.51371698])"
      ]
     },
     "execution_count": 17,
     "metadata": {},
     "output_type": "execute_result"
    }
   ],
   "source": [
    "target2"
   ]
  },
  {
   "cell_type": "code",
   "execution_count": 18,
   "metadata": {},
   "outputs": [
    {
     "data": {
      "text/plain": [
       "2.3e-15"
      ]
     },
     "execution_count": 18,
     "metadata": {},
     "output_type": "execute_result"
    }
   ],
   "source": [
    "round(response.pvalue,16)"
   ]
  },
  {
   "cell_type": "code",
   "execution_count": null,
   "metadata": {},
   "outputs": [],
   "source": [
    "# 1. High Null value \n",
    "# 2. Missing columns \n",
    "# 3. Outlier \n",
    "# 4. Categorical \n",
    "#Gender --> Male,Female,Other "
   ]
  },
  {
   "cell_type": "code",
   "execution_count": 1,
   "metadata": {},
   "outputs": [],
   "source": [
    "import pandas as pd \n",
    "df = pd.read_csv(\"D:/Python Programs/Machine Learning/Projects/aps-fault-detection-main/aps_failure_training_set1.csv\")"
   ]
  },
  {
   "cell_type": "code",
   "execution_count": 5,
   "metadata": {},
   "outputs": [
    {
     "name": "stdout",
     "output_type": "stream",
     "text": [
      "class 0.0\n",
      "aa_000 0.0\n",
      "ab_000 0.0\n",
      "ac_000 0.0\n",
      "ad_000 0.0\n",
      "ae_000 0.0\n",
      "af_000 0.0\n",
      "ag_000 0.0\n",
      "ag_001 0.0\n",
      "ag_002 0.0\n",
      "ag_003 0.0\n",
      "ag_004 0.0\n",
      "ag_005 0.0\n",
      "ag_006 0.0\n",
      "ag_007 0.0\n",
      "ag_008 0.0\n",
      "ag_009 0.0\n",
      "ah_000 0.0\n",
      "ai_000 0.0\n",
      "aj_000 0.0\n",
      "ak_000 0.0\n",
      "al_000 0.0\n",
      "am_0 0.0\n",
      "an_000 0.0\n",
      "ao_000 0.0\n",
      "ap_000 0.0\n",
      "aq_000 0.0\n",
      "ar_000 0.0\n",
      "as_000 0.0\n",
      "at_000 0.0\n",
      "au_000 0.0\n",
      "av_000 0.0\n",
      "ax_000 0.0\n",
      "ay_000 0.0\n",
      "ay_001 0.0\n",
      "ay_002 0.0\n",
      "ay_003 0.0\n",
      "ay_004 0.0\n",
      "ay_005 0.0\n",
      "ay_006 0.0\n",
      "ay_007 0.0\n",
      "ay_008 0.0\n",
      "ay_009 0.0\n",
      "az_000 0.0\n",
      "az_001 0.0\n",
      "az_002 0.0\n",
      "az_003 0.0\n",
      "az_004 0.0\n",
      "az_005 0.0\n",
      "az_006 0.0\n",
      "az_007 0.0\n",
      "az_008 0.0\n",
      "az_009 0.0\n",
      "ba_000 0.0\n",
      "ba_001 0.0\n",
      "ba_002 0.0\n",
      "ba_003 0.0\n",
      "ba_004 0.0\n",
      "ba_005 0.0\n",
      "ba_006 0.0\n",
      "ba_007 0.0\n",
      "ba_008 0.0\n",
      "ba_009 0.0\n",
      "bb_000 0.0\n",
      "bc_000 0.0\n",
      "bd_000 0.0\n",
      "be_000 0.0\n",
      "bf_000 0.0\n",
      "bg_000 0.0\n",
      "bh_000 0.0\n",
      "bi_000 0.0\n",
      "bj_000 0.0\n",
      "bk_000 0.0\n",
      "bl_000 0.0\n",
      "bm_000 0.0\n",
      "bn_000 0.0\n",
      "bo_000 0.0\n",
      "bp_000 0.0\n",
      "bq_000 0.0\n",
      "br_000 0.0\n",
      "bs_000 0.0\n",
      "bt_000 0.0\n",
      "bu_000 0.0\n",
      "bv_000 0.0\n",
      "bx_000 0.0\n",
      "by_000 0.0\n",
      "bz_000 0.0\n",
      "ca_000 0.0\n",
      "cb_000 0.0\n",
      "cc_000 0.0\n",
      "cd_000 0.0\n",
      "ce_000 0.0\n",
      "cf_000 0.0\n",
      "cg_000 0.0\n",
      "ch_000 0.0\n",
      "ci_000 0.0\n",
      "cj_000 0.0\n",
      "ck_000 0.0\n",
      "cl_000 0.0\n",
      "cm_000 0.0\n",
      "cn_000 0.0\n",
      "cn_001 0.0\n",
      "cn_002 0.0\n",
      "cn_003 0.0\n",
      "cn_004 0.0\n",
      "cn_005 0.0\n",
      "cn_006 0.0\n",
      "cn_007 0.0\n",
      "cn_008 0.0\n",
      "cn_009 0.0\n",
      "co_000 0.0\n",
      "cp_000 0.0\n",
      "cq_000 0.0\n",
      "cr_000 0.0\n",
      "cs_000 0.0\n",
      "cs_001 0.0\n",
      "cs_002 0.0\n",
      "cs_003 0.0\n",
      "cs_004 0.0\n",
      "cs_005 0.0\n",
      "cs_006 0.0\n",
      "cs_007 0.0\n",
      "cs_008 0.0\n",
      "cs_009 0.0\n",
      "ct_000 0.0\n",
      "cu_000 0.0\n",
      "cv_000 0.0\n",
      "cx_000 0.0\n",
      "cy_000 0.0\n",
      "cz_000 0.0\n",
      "da_000 0.0\n",
      "db_000 0.0\n",
      "dc_000 0.0\n",
      "dd_000 0.0\n",
      "de_000 0.0\n",
      "df_000 0.0\n",
      "dg_000 0.0\n",
      "dh_000 0.0\n",
      "di_000 0.0\n",
      "dj_000 0.0\n",
      "dk_000 0.0\n",
      "dl_000 0.0\n",
      "dm_000 0.0\n",
      "dn_000 0.0\n",
      "do_000 0.0\n",
      "dp_000 0.0\n",
      "dq_000 0.0\n",
      "dr_000 0.0\n",
      "ds_000 0.0\n",
      "dt_000 0.0\n",
      "du_000 0.0\n",
      "dv_000 0.0\n",
      "dx_000 0.0\n",
      "dy_000 0.0\n",
      "dz_000 0.0\n",
      "ea_000 0.0\n",
      "eb_000 0.0\n",
      "ec_00 0.0\n",
      "ed_000 0.0\n",
      "ee_000 0.0\n",
      "ee_001 0.0\n",
      "ee_002 0.0\n",
      "ee_003 0.0\n",
      "ee_004 0.0\n",
      "ee_005 0.0\n",
      "ee_006 0.0\n",
      "ee_007 0.0\n",
      "ee_008 0.0\n",
      "ee_009 0.0\n",
      "ef_000 0.0\n",
      "eg_000 0.0\n"
     ]
    }
   ],
   "source": [
    "drop_column_names = []\n",
    "for column_name,missing_percentage in zip((df.isnull().sum()/df.shape[0]).index,(df.isnull().sum()/df.shape[0]).values):\n",
    "    print(column_name,missing_percentage*100)\n",
    "    if missing_percentage>0.3:\n",
    "        drop_column_names.append(column_name)"
   ]
  },
  {
   "cell_type": "code",
   "execution_count": 6,
   "metadata": {},
   "outputs": [
    {
     "data": {
      "text/plain": [
       "[]"
      ]
     },
     "execution_count": 6,
     "metadata": {},
     "output_type": "execute_result"
    }
   ],
   "source": [
    "drop_column_names"
   ]
  },
  {
   "cell_type": "code",
   "execution_count": 4,
   "metadata": {},
   "outputs": [
    {
     "name": "stdout",
     "output_type": "stream",
     "text": [
      "1 5\n",
      "2 6\n",
      "3 7\n",
      "4 8\n"
     ]
    }
   ],
   "source": [
    "l1 = [1,2,3,4]\n",
    "l2 = [5,6,7,8]\n",
    "for l1_val,l2_val in zip(l1,l2):\n",
    "    print(l1_val,l2_val)"
   ]
  },
  {
   "cell_type": "code",
   "execution_count": 7,
   "metadata": {},
   "outputs": [],
   "source": [
    "null_report=df.isnull().sum()/df.shape[0]\n",
    "null_report[null_report>0.3].index"
   ]
  },
  {
   "cell_type": "code",
   "execution_count": 1,
   "metadata": {},
   "outputs": [],
   "source": [
    "from glob import glob"
   ]
  },
  {
   "cell_type": "code",
   "execution_count": 2,
   "metadata": {},
   "outputs": [
    {
     "data": {
      "text/plain": [
       "['D:/Python Programs/Machine Learning/Projects/aps-fault-detection-main/saved_models/1\\\\model\\\\model.pkl']"
      ]
     },
     "execution_count": 2,
     "metadata": {},
     "output_type": "execute_result"
    }
   ],
   "source": [
    "glob(\"D:/Python Programs/Machine Learning/Projects/aps-fault-detection-main/saved_models/1/**/*.pkl\")"
   ]
  },
  {
   "cell_type": "code",
   "execution_count": 3,
   "metadata": {},
   "outputs": [
    {
     "data": {
      "text/plain": [
       "'1'"
      ]
     },
     "execution_count": 3,
     "metadata": {},
     "output_type": "execute_result"
    }
   ],
   "source": [
    "import os \n",
    "os.path.basename(\"saved_models/1\")"
   ]
  },
  {
   "cell_type": "code",
   "execution_count": null,
   "metadata": {},
   "outputs": [],
   "source": []
  }
 ],
 "metadata": {
  "kernelspec": {
   "display_name": "Python 3.10.0 64-bit",
   "language": "python",
   "name": "python3"
  },
  "language_info": {
   "codemirror_mode": {
    "name": "ipython",
    "version": 3
   },
   "file_extension": ".py",
   "mimetype": "text/x-python",
   "name": "python",
   "nbconvert_exporter": "python",
   "pygments_lexer": "ipython3",
   "version": "3.10.0"
  },
  "orig_nbformat": 4,
  "vscode": {
   "interpreter": {
    "hash": "369f2c481f4da34e4445cda3fffd2e751bd1c4d706f27375911949ba6bb62e1c"
   }
  }
 },
 "nbformat": 4,
 "nbformat_minor": 2
}
